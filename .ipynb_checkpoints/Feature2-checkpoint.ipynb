{
 "cells": [
  {
   "cell_type": "code",
   "execution_count": 198,
   "metadata": {},
   "outputs": [],
   "source": [
    "import os\n",
    "import pandas as pd\n",
    "import numpy as np\n",
    "import matplotlib.pyplot as plt"
   ]
  },
  {
   "cell_type": "code",
   "execution_count": 199,
   "metadata": {},
   "outputs": [
    {
     "data": {
      "text/html": [
       "<div>\n",
       "<style scoped>\n",
       "    .dataframe tbody tr th:only-of-type {\n",
       "        vertical-align: middle;\n",
       "    }\n",
       "\n",
       "    .dataframe tbody tr th {\n",
       "        vertical-align: top;\n",
       "    }\n",
       "\n",
       "    .dataframe thead th {\n",
       "        text-align: right;\n",
       "    }\n",
       "</style>\n",
       "<table border=\"1\" class=\"dataframe\">\n",
       "  <thead>\n",
       "    <tr style=\"text-align: right;\">\n",
       "      <th></th>\n",
       "      <th>Unnamed: 0</th>\n",
       "      <th>Timestamp_x</th>\n",
       "      <th>Score</th>\n",
       "      <th>ID</th>\n",
       "      <th>Gender</th>\n",
       "      <th>Height</th>\n",
       "      <th>Weight</th>\n",
       "      <th>CGPA</th>\n",
       "      <th>Daily spent time in social media (hour)</th>\n",
       "      <th>Hometown</th>\n",
       "      <th>...</th>\n",
       "      <th>Do you often try to do more than one thing at a time? [Feedback]</th>\n",
       "      <th>Do you find it difficult and frustrating to wait in line?</th>\n",
       "      <th>Do you find it difficult and frustrating to wait in line? [Score]</th>\n",
       "      <th>Do you find it difficult and frustrating to wait in line? [Feedback]</th>\n",
       "      <th>Are you more of a morning person?</th>\n",
       "      <th>Are you more of a morning person? [Score]</th>\n",
       "      <th>Are you more of a morning person? [Feedback]</th>\n",
       "      <th>Would you consider yourself to be a perfectionist?</th>\n",
       "      <th>Would you consider yourself to be a perfectionist? [Score]</th>\n",
       "      <th>Would you consider yourself to be a perfectionist? [Feedback]</th>\n",
       "    </tr>\n",
       "  </thead>\n",
       "  <tbody>\n",
       "    <tr>\n",
       "      <th>0</th>\n",
       "      <td>0</td>\n",
       "      <td>3/29/2019 0:23:23</td>\n",
       "      <td>0 / 1</td>\n",
       "      <td>121440946</td>\n",
       "      <td>Male</td>\n",
       "      <td>5 ft 10 inch</td>\n",
       "      <td>90.0</td>\n",
       "      <td>2.34</td>\n",
       "      <td>Below 1 hour</td>\n",
       "      <td>Comilla</td>\n",
       "      <td>...</td>\n",
       "      <td>NaN</td>\n",
       "      <td>Yes</td>\n",
       "      <td>-- / 0</td>\n",
       "      <td>NaN</td>\n",
       "      <td>Yes</td>\n",
       "      <td>-- / 0</td>\n",
       "      <td>NaN</td>\n",
       "      <td>No</td>\n",
       "      <td>-- / 0</td>\n",
       "      <td>NaN</td>\n",
       "    </tr>\n",
       "    <tr>\n",
       "      <th>1</th>\n",
       "      <td>1</td>\n",
       "      <td>3/29/2019 3:00:10</td>\n",
       "      <td>0 / 1</td>\n",
       "      <td>131440910</td>\n",
       "      <td>Female</td>\n",
       "      <td>5'3\"</td>\n",
       "      <td>42.0</td>\n",
       "      <td>2.50</td>\n",
       "      <td>10</td>\n",
       "      <td>Bogra</td>\n",
       "      <td>...</td>\n",
       "      <td>NaN</td>\n",
       "      <td>Maybe</td>\n",
       "      <td>-- / 0</td>\n",
       "      <td>NaN</td>\n",
       "      <td>No</td>\n",
       "      <td>-- / 0</td>\n",
       "      <td>NaN</td>\n",
       "      <td>No</td>\n",
       "      <td>-- / 0</td>\n",
       "      <td>NaN</td>\n",
       "    </tr>\n",
       "    <tr>\n",
       "      <th>2</th>\n",
       "      <td>2</td>\n",
       "      <td>3/28/2019 23:40:52</td>\n",
       "      <td>0 / 1</td>\n",
       "      <td>131440969</td>\n",
       "      <td>Male</td>\n",
       "      <td>5.4</td>\n",
       "      <td>60.0</td>\n",
       "      <td>2.80</td>\n",
       "      <td>10</td>\n",
       "      <td>Narsinghdi</td>\n",
       "      <td>...</td>\n",
       "      <td>NaN</td>\n",
       "      <td>Yes</td>\n",
       "      <td>-- / 0</td>\n",
       "      <td>NaN</td>\n",
       "      <td>No</td>\n",
       "      <td>-- / 0</td>\n",
       "      <td>NaN</td>\n",
       "      <td>No</td>\n",
       "      <td>-- / 0</td>\n",
       "      <td>NaN</td>\n",
       "    </tr>\n",
       "    <tr>\n",
       "      <th>3</th>\n",
       "      <td>3</td>\n",
       "      <td>3/28/2019 23:17:47</td>\n",
       "      <td>0 / 1</td>\n",
       "      <td>141340900</td>\n",
       "      <td>Male</td>\n",
       "      <td>5'8''</td>\n",
       "      <td>70.0</td>\n",
       "      <td>2.47</td>\n",
       "      <td>Above 5 hour</td>\n",
       "      <td>Rajshahi</td>\n",
       "      <td>...</td>\n",
       "      <td>NaN</td>\n",
       "      <td>Yes</td>\n",
       "      <td>-- / 0</td>\n",
       "      <td>NaN</td>\n",
       "      <td>No</td>\n",
       "      <td>-- / 0</td>\n",
       "      <td>NaN</td>\n",
       "      <td>No</td>\n",
       "      <td>-- / 0</td>\n",
       "      <td>NaN</td>\n",
       "    </tr>\n",
       "    <tr>\n",
       "      <th>4</th>\n",
       "      <td>4</td>\n",
       "      <td>3/24/2019 15:31:24</td>\n",
       "      <td>0 / 1</td>\n",
       "      <td>141440899</td>\n",
       "      <td>Female</td>\n",
       "      <td>156cm</td>\n",
       "      <td>76.0</td>\n",
       "      <td>3.62</td>\n",
       "      <td>10</td>\n",
       "      <td>Chittagong</td>\n",
       "      <td>...</td>\n",
       "      <td>NaN</td>\n",
       "      <td>Yes</td>\n",
       "      <td>-- / 0</td>\n",
       "      <td>NaN</td>\n",
       "      <td>Maybe</td>\n",
       "      <td>-- / 0</td>\n",
       "      <td>NaN</td>\n",
       "      <td>No</td>\n",
       "      <td>-- / 0</td>\n",
       "      <td>NaN</td>\n",
       "    </tr>\n",
       "  </tbody>\n",
       "</table>\n",
       "<p>5 rows × 200 columns</p>\n",
       "</div>"
      ],
      "text/plain": [
       "   Unnamed: 0         Timestamp_x  Score         ID  Gender        Height  \\\n",
       "0           0   3/29/2019 0:23:23  0 / 1  121440946    Male  5 ft 10 inch   \n",
       "1           1   3/29/2019 3:00:10  0 / 1  131440910  Female          5'3\"   \n",
       "2           2  3/28/2019 23:40:52  0 / 1  131440969    Male           5.4   \n",
       "3           3  3/28/2019 23:17:47  0 / 1  141340900    Male         5'8''   \n",
       "4           4  3/24/2019 15:31:24  0 / 1  141440899  Female         156cm   \n",
       "\n",
       "   Weight  CGPA Daily spent time in social media (hour)    Hometown  ...  \\\n",
       "0    90.0  2.34                            Below 1 hour     Comilla  ...   \n",
       "1    42.0  2.50                                      10       Bogra  ...   \n",
       "2    60.0  2.80                                      10  Narsinghdi  ...   \n",
       "3    70.0  2.47                            Above 5 hour    Rajshahi  ...   \n",
       "4    76.0  3.62                                      10  Chittagong  ...   \n",
       "\n",
       "  Do you often try to do more than one thing at a time? [Feedback]  \\\n",
       "0                                                NaN                 \n",
       "1                                                NaN                 \n",
       "2                                                NaN                 \n",
       "3                                                NaN                 \n",
       "4                                                NaN                 \n",
       "\n",
       "  Do you find it difficult and frustrating to wait in line?  \\\n",
       "0                                                Yes          \n",
       "1                                              Maybe          \n",
       "2                                                Yes          \n",
       "3                                                Yes          \n",
       "4                                                Yes          \n",
       "\n",
       "  Do you find it difficult and frustrating to wait in line? [Score]  \\\n",
       "0                                             -- / 0                  \n",
       "1                                             -- / 0                  \n",
       "2                                             -- / 0                  \n",
       "3                                             -- / 0                  \n",
       "4                                             -- / 0                  \n",
       "\n",
       "  Do you find it difficult and frustrating to wait in line? [Feedback]  \\\n",
       "0                                                NaN                     \n",
       "1                                                NaN                     \n",
       "2                                                NaN                     \n",
       "3                                                NaN                     \n",
       "4                                                NaN                     \n",
       "\n",
       "  Are you more of a morning person? Are you more of a morning person? [Score]  \\\n",
       "0                               Yes                                    -- / 0   \n",
       "1                                No                                    -- / 0   \n",
       "2                                No                                    -- / 0   \n",
       "3                                No                                    -- / 0   \n",
       "4                             Maybe                                    -- / 0   \n",
       "\n",
       "   Are you more of a morning person? [Feedback]  \\\n",
       "0                                           NaN   \n",
       "1                                           NaN   \n",
       "2                                           NaN   \n",
       "3                                           NaN   \n",
       "4                                           NaN   \n",
       "\n",
       "  Would you consider yourself to be a perfectionist?  \\\n",
       "0                                                 No   \n",
       "1                                                 No   \n",
       "2                                                 No   \n",
       "3                                                 No   \n",
       "4                                                 No   \n",
       "\n",
       "  Would you consider yourself to be a perfectionist? [Score]  \\\n",
       "0                                             -- / 0           \n",
       "1                                             -- / 0           \n",
       "2                                             -- / 0           \n",
       "3                                             -- / 0           \n",
       "4                                             -- / 0           \n",
       "\n",
       "  Would you consider yourself to be a perfectionist? [Feedback]  \n",
       "0                                                NaN             \n",
       "1                                                NaN             \n",
       "2                                                NaN             \n",
       "3                                                NaN             \n",
       "4                                                NaN             \n",
       "\n",
       "[5 rows x 200 columns]"
      ]
     },
     "execution_count": 199,
     "metadata": {},
     "output_type": "execute_result"
    }
   ],
   "source": [
    "Dataset = pd.read_excel('output.xlsx')\n",
    "Dataset.head()"
   ]
  },
  {
   "cell_type": "code",
   "execution_count": 200,
   "metadata": {},
   "outputs": [
    {
     "data": {
      "text/html": [
       "<div>\n",
       "<style scoped>\n",
       "    .dataframe tbody tr th:only-of-type {\n",
       "        vertical-align: middle;\n",
       "    }\n",
       "\n",
       "    .dataframe tbody tr th {\n",
       "        vertical-align: top;\n",
       "    }\n",
       "\n",
       "    .dataframe thead th {\n",
       "        text-align: right;\n",
       "    }\n",
       "</style>\n",
       "<table border=\"1\" class=\"dataframe\">\n",
       "  <thead>\n",
       "    <tr style=\"text-align: right;\">\n",
       "      <th></th>\n",
       "      <th>How many people do you follow on social media?</th>\n",
       "      <th>Daily spent time in social media (hour)</th>\n",
       "      <th>Do you feel low seeing other people's achievement on social media</th>\n",
       "      <th>Are you happy with current situation?</th>\n",
       "    </tr>\n",
       "  </thead>\n",
       "  <tbody>\n",
       "    <tr>\n",
       "      <th>0</th>\n",
       "      <td>20.0</td>\n",
       "      <td>Below 1 hour</td>\n",
       "      <td>No</td>\n",
       "      <td>Yes</td>\n",
       "    </tr>\n",
       "    <tr>\n",
       "      <th>1</th>\n",
       "      <td>10.0</td>\n",
       "      <td>10</td>\n",
       "      <td>No</td>\n",
       "      <td>No</td>\n",
       "    </tr>\n",
       "    <tr>\n",
       "      <th>2</th>\n",
       "      <td>10.0</td>\n",
       "      <td>10</td>\n",
       "      <td>Yes</td>\n",
       "      <td>Maybe</td>\n",
       "    </tr>\n",
       "    <tr>\n",
       "      <th>3</th>\n",
       "      <td>200.0</td>\n",
       "      <td>Above 5 hour</td>\n",
       "      <td>No</td>\n",
       "      <td>No</td>\n",
       "    </tr>\n",
       "    <tr>\n",
       "      <th>4</th>\n",
       "      <td>100.0</td>\n",
       "      <td>10</td>\n",
       "      <td>No</td>\n",
       "      <td>Yes</td>\n",
       "    </tr>\n",
       "  </tbody>\n",
       "</table>\n",
       "</div>"
      ],
      "text/plain": [
       "   How many people do you follow on social media?  \\\n",
       "0                                            20.0   \n",
       "1                                            10.0   \n",
       "2                                            10.0   \n",
       "3                                           200.0   \n",
       "4                                           100.0   \n",
       "\n",
       "  Daily spent time in social media (hour)  \\\n",
       "0                            Below 1 hour   \n",
       "1                                      10   \n",
       "2                                      10   \n",
       "3                            Above 5 hour   \n",
       "4                                      10   \n",
       "\n",
       "  Do you feel low seeing other people's achievement on social media  \\\n",
       "0                                                 No                  \n",
       "1                                                 No                  \n",
       "2                                                Yes                  \n",
       "3                                                 No                  \n",
       "4                                                 No                  \n",
       "\n",
       "  Are you happy with current situation?  \n",
       "0                                   Yes  \n",
       "1                                    No  \n",
       "2                                 Maybe  \n",
       "3                                    No  \n",
       "4                                   Yes  "
      ]
     },
     "execution_count": 200,
     "metadata": {},
     "output_type": "execute_result"
    }
   ],
   "source": [
    "columns = [\n",
    "\"How many people do you follow on social media?\",\n",
    "\"Daily spent time in social media (hour)\",\n",
    "\"Do you feel low seeing other people's achievement on social media\",\n",
    "\"Are you happy with current situation?\"\n",
    "]\n",
    "Dataset = Dataset[columns].copy()\n",
    "Dataset = Dataset.dropna()\n",
    "Dataset1.head()"
   ]
  },
  {
   "cell_type": "code",
   "execution_count": 214,
   "metadata": {},
   "outputs": [],
   "source": [
    "# for col in Dataset.columns():\n",
    "#    Dataset.loc[df[col] == 'Below 1 hour', col] = 1"
   ]
  },
  {
   "cell_type": "code",
   "execution_count": 195,
   "metadata": {},
   "outputs": [],
   "source": [
    "random.seed()\n",
    "# import random\n",
    "# pd.options.mode.chained_assignment = None \n",
    "# for row in range (0,len(Dataset)):\n",
    "#     if(Dataset.iloc[row][\"Daily spent time in social media (hour)\"]) == \"Below 1 hour\":\n",
    "#         Dataset.iloc[row][\"Daily spent time in social media (hour)\"]= random.uniform(0.5,1)"
   ]
  },
  {
   "cell_type": "code",
   "execution_count": 203,
   "metadata": {},
   "outputs": [],
   "source": [
    "random.seed()\n",
    "# for row in range (0,len(Dataset)):\n",
    "#     if(Dataset.iloc[row][\"Daily spent time in social media (hour)\"]) == \"Above 5 hour\":\n",
    "#         Dataset.iloc[row][\"Daily spent time in social media (hour)\"] =random.uniform(5,7)\n",
    "\n",
    "# Dataset.head()\n",
    "Dataset = Dataset.replace(['Below 1 hour', 'Above 5 hour', 10], \n",
    "                     [random.uniform(0.5,1), random.uniform(5,7),random.randint(1,5)]) "
   ]
  },
  {
   "cell_type": "code",
   "execution_count": null,
   "metadata": {},
   "outputs": [],
   "source": []
  },
  {
   "cell_type": "code",
   "execution_count": 259,
   "metadata": {},
   "outputs": [
    {
     "data": {
      "text/html": [
       "<div>\n",
       "<style scoped>\n",
       "    .dataframe tbody tr th:only-of-type {\n",
       "        vertical-align: middle;\n",
       "    }\n",
       "\n",
       "    .dataframe tbody tr th {\n",
       "        vertical-align: top;\n",
       "    }\n",
       "\n",
       "    .dataframe thead th {\n",
       "        text-align: right;\n",
       "    }\n",
       "</style>\n",
       "<table border=\"1\" class=\"dataframe\">\n",
       "  <thead>\n",
       "    <tr style=\"text-align: right;\">\n",
       "      <th></th>\n",
       "      <th>How many people do you follow on social media?</th>\n",
       "      <th>Daily spent time in social media (hour)</th>\n",
       "      <th>Do you feel low seeing other people's achievement on social media</th>\n",
       "      <th>Are you happy with current situation?</th>\n",
       "    </tr>\n",
       "  </thead>\n",
       "  <tbody>\n",
       "    <tr>\n",
       "      <th>0</th>\n",
       "      <td>20.0</td>\n",
       "      <td>0.500195</td>\n",
       "      <td>0</td>\n",
       "      <td>1</td>\n",
       "    </tr>\n",
       "    <tr>\n",
       "      <th>1</th>\n",
       "      <td>4.0</td>\n",
       "      <td>4.000000</td>\n",
       "      <td>0</td>\n",
       "      <td>0</td>\n",
       "    </tr>\n",
       "    <tr>\n",
       "      <th>2</th>\n",
       "      <td>4.0</td>\n",
       "      <td>4.000000</td>\n",
       "      <td>1</td>\n",
       "      <td>2</td>\n",
       "    </tr>\n",
       "    <tr>\n",
       "      <th>3</th>\n",
       "      <td>200.0</td>\n",
       "      <td>5.772201</td>\n",
       "      <td>0</td>\n",
       "      <td>0</td>\n",
       "    </tr>\n",
       "    <tr>\n",
       "      <th>4</th>\n",
       "      <td>100.0</td>\n",
       "      <td>4.000000</td>\n",
       "      <td>0</td>\n",
       "      <td>1</td>\n",
       "    </tr>\n",
       "  </tbody>\n",
       "</table>\n",
       "</div>"
      ],
      "text/plain": [
       "   How many people do you follow on social media?  \\\n",
       "0                                            20.0   \n",
       "1                                             4.0   \n",
       "2                                             4.0   \n",
       "3                                           200.0   \n",
       "4                                           100.0   \n",
       "\n",
       "   Daily spent time in social media (hour)  \\\n",
       "0                                 0.500195   \n",
       "1                                 4.000000   \n",
       "2                                 4.000000   \n",
       "3                                 5.772201   \n",
       "4                                 4.000000   \n",
       "\n",
       "   Do you feel low seeing other people's achievement on social media  \\\n",
       "0                                                  0                   \n",
       "1                                                  0                   \n",
       "2                                                  1                   \n",
       "3                                                  0                   \n",
       "4                                                  0                   \n",
       "\n",
       "   Are you happy with current situation?  \n",
       "0                                      1  \n",
       "1                                      0  \n",
       "2                                      2  \n",
       "3                                      0  \n",
       "4                                      1  "
      ]
     },
     "execution_count": 259,
     "metadata": {},
     "output_type": "execute_result"
    }
   ],
   "source": [
    "Dataset.head()"
   ]
  },
  {
   "cell_type": "code",
   "execution_count": 205,
   "metadata": {},
   "outputs": [],
   "source": [
    "Dataset = Dataset.replace(['Yes', 'No', 'Maybe'], \n",
    "                     [1, 0, 2]) "
   ]
  },
  {
   "cell_type": "code",
   "execution_count": 263,
   "metadata": {},
   "outputs": [
    {
     "data": {
      "text/html": [
       "<div>\n",
       "<style scoped>\n",
       "    .dataframe tbody tr th:only-of-type {\n",
       "        vertical-align: middle;\n",
       "    }\n",
       "\n",
       "    .dataframe tbody tr th {\n",
       "        vertical-align: top;\n",
       "    }\n",
       "\n",
       "    .dataframe thead th {\n",
       "        text-align: right;\n",
       "    }\n",
       "</style>\n",
       "<table border=\"1\" class=\"dataframe\">\n",
       "  <thead>\n",
       "    <tr style=\"text-align: right;\">\n",
       "      <th></th>\n",
       "      <th>How many people do you follow on social media?</th>\n",
       "      <th>Daily spent time in social media (hour)</th>\n",
       "      <th>Do you feel low seeing other people's achievement on social media</th>\n",
       "      <th>Are you happy with current situation?</th>\n",
       "    </tr>\n",
       "  </thead>\n",
       "  <tbody>\n",
       "    <tr>\n",
       "      <th>0</th>\n",
       "      <td>20.0</td>\n",
       "      <td>0.500195</td>\n",
       "      <td>0</td>\n",
       "      <td>1</td>\n",
       "    </tr>\n",
       "    <tr>\n",
       "      <th>1</th>\n",
       "      <td>4.0</td>\n",
       "      <td>4.000000</td>\n",
       "      <td>0</td>\n",
       "      <td>0</td>\n",
       "    </tr>\n",
       "    <tr>\n",
       "      <th>2</th>\n",
       "      <td>4.0</td>\n",
       "      <td>4.000000</td>\n",
       "      <td>1</td>\n",
       "      <td>2</td>\n",
       "    </tr>\n",
       "    <tr>\n",
       "      <th>3</th>\n",
       "      <td>200.0</td>\n",
       "      <td>5.772201</td>\n",
       "      <td>0</td>\n",
       "      <td>0</td>\n",
       "    </tr>\n",
       "    <tr>\n",
       "      <th>4</th>\n",
       "      <td>100.0</td>\n",
       "      <td>4.000000</td>\n",
       "      <td>0</td>\n",
       "      <td>1</td>\n",
       "    </tr>\n",
       "    <tr>\n",
       "      <th>5</th>\n",
       "      <td>200.0</td>\n",
       "      <td>4.000000</td>\n",
       "      <td>1</td>\n",
       "      <td>0</td>\n",
       "    </tr>\n",
       "    <tr>\n",
       "      <th>6</th>\n",
       "      <td>100.0</td>\n",
       "      <td>4.000000</td>\n",
       "      <td>0</td>\n",
       "      <td>1</td>\n",
       "    </tr>\n",
       "    <tr>\n",
       "      <th>7</th>\n",
       "      <td>20.0</td>\n",
       "      <td>0.500195</td>\n",
       "      <td>0</td>\n",
       "      <td>1</td>\n",
       "    </tr>\n",
       "    <tr>\n",
       "      <th>8</th>\n",
       "      <td>15.0</td>\n",
       "      <td>4.000000</td>\n",
       "      <td>0</td>\n",
       "      <td>2</td>\n",
       "    </tr>\n",
       "    <tr>\n",
       "      <th>9</th>\n",
       "      <td>4.0</td>\n",
       "      <td>0.500195</td>\n",
       "      <td>0</td>\n",
       "      <td>1</td>\n",
       "    </tr>\n",
       "    <tr>\n",
       "      <th>10</th>\n",
       "      <td>20.0</td>\n",
       "      <td>4.000000</td>\n",
       "      <td>1</td>\n",
       "      <td>2</td>\n",
       "    </tr>\n",
       "    <tr>\n",
       "      <th>11</th>\n",
       "      <td>15.0</td>\n",
       "      <td>0.500195</td>\n",
       "      <td>0</td>\n",
       "      <td>0</td>\n",
       "    </tr>\n",
       "    <tr>\n",
       "      <th>12</th>\n",
       "      <td>1.0</td>\n",
       "      <td>4.000000</td>\n",
       "      <td>0</td>\n",
       "      <td>2</td>\n",
       "    </tr>\n",
       "    <tr>\n",
       "      <th>13</th>\n",
       "      <td>400.0</td>\n",
       "      <td>4.000000</td>\n",
       "      <td>2</td>\n",
       "      <td>2</td>\n",
       "    </tr>\n",
       "    <tr>\n",
       "      <th>14</th>\n",
       "      <td>300.0</td>\n",
       "      <td>4.000000</td>\n",
       "      <td>2</td>\n",
       "      <td>1</td>\n",
       "    </tr>\n",
       "    <tr>\n",
       "      <th>15</th>\n",
       "      <td>0.0</td>\n",
       "      <td>0.500195</td>\n",
       "      <td>2</td>\n",
       "      <td>1</td>\n",
       "    </tr>\n",
       "    <tr>\n",
       "      <th>16</th>\n",
       "      <td>20.0</td>\n",
       "      <td>4.000000</td>\n",
       "      <td>2</td>\n",
       "      <td>0</td>\n",
       "    </tr>\n",
       "    <tr>\n",
       "      <th>17</th>\n",
       "      <td>4.0</td>\n",
       "      <td>4.000000</td>\n",
       "      <td>0</td>\n",
       "      <td>1</td>\n",
       "    </tr>\n",
       "    <tr>\n",
       "      <th>18</th>\n",
       "      <td>4.0</td>\n",
       "      <td>4.000000</td>\n",
       "      <td>0</td>\n",
       "      <td>1</td>\n",
       "    </tr>\n",
       "    <tr>\n",
       "      <th>19</th>\n",
       "      <td>50.0</td>\n",
       "      <td>4.000000</td>\n",
       "      <td>2</td>\n",
       "      <td>2</td>\n",
       "    </tr>\n",
       "    <tr>\n",
       "      <th>20</th>\n",
       "      <td>100.0</td>\n",
       "      <td>4.000000</td>\n",
       "      <td>0</td>\n",
       "      <td>2</td>\n",
       "    </tr>\n",
       "    <tr>\n",
       "      <th>21</th>\n",
       "      <td>300.0</td>\n",
       "      <td>4.000000</td>\n",
       "      <td>0</td>\n",
       "      <td>0</td>\n",
       "    </tr>\n",
       "    <tr>\n",
       "      <th>22</th>\n",
       "      <td>220.0</td>\n",
       "      <td>4.000000</td>\n",
       "      <td>0</td>\n",
       "      <td>2</td>\n",
       "    </tr>\n",
       "    <tr>\n",
       "      <th>23</th>\n",
       "      <td>5.0</td>\n",
       "      <td>5.772201</td>\n",
       "      <td>1</td>\n",
       "      <td>1</td>\n",
       "    </tr>\n",
       "    <tr>\n",
       "      <th>25</th>\n",
       "      <td>5.0</td>\n",
       "      <td>4.000000</td>\n",
       "      <td>0</td>\n",
       "      <td>1</td>\n",
       "    </tr>\n",
       "    <tr>\n",
       "      <th>26</th>\n",
       "      <td>100.0</td>\n",
       "      <td>0.500195</td>\n",
       "      <td>0</td>\n",
       "      <td>0</td>\n",
       "    </tr>\n",
       "    <tr>\n",
       "      <th>27</th>\n",
       "      <td>20.0</td>\n",
       "      <td>4.000000</td>\n",
       "      <td>2</td>\n",
       "      <td>0</td>\n",
       "    </tr>\n",
       "    <tr>\n",
       "      <th>28</th>\n",
       "      <td>200.0</td>\n",
       "      <td>0.500195</td>\n",
       "      <td>1</td>\n",
       "      <td>1</td>\n",
       "    </tr>\n",
       "    <tr>\n",
       "      <th>29</th>\n",
       "      <td>100.0</td>\n",
       "      <td>4.000000</td>\n",
       "      <td>2</td>\n",
       "      <td>1</td>\n",
       "    </tr>\n",
       "    <tr>\n",
       "      <th>30</th>\n",
       "      <td>1000.0</td>\n",
       "      <td>4.000000</td>\n",
       "      <td>0</td>\n",
       "      <td>0</td>\n",
       "    </tr>\n",
       "    <tr>\n",
       "      <th>...</th>\n",
       "      <td>...</td>\n",
       "      <td>...</td>\n",
       "      <td>...</td>\n",
       "      <td>...</td>\n",
       "    </tr>\n",
       "    <tr>\n",
       "      <th>73</th>\n",
       "      <td>25.0</td>\n",
       "      <td>4.000000</td>\n",
       "      <td>1</td>\n",
       "      <td>1</td>\n",
       "    </tr>\n",
       "    <tr>\n",
       "      <th>74</th>\n",
       "      <td>20.0</td>\n",
       "      <td>5.772201</td>\n",
       "      <td>1</td>\n",
       "      <td>0</td>\n",
       "    </tr>\n",
       "    <tr>\n",
       "      <th>75</th>\n",
       "      <td>500.0</td>\n",
       "      <td>4.000000</td>\n",
       "      <td>1</td>\n",
       "      <td>0</td>\n",
       "    </tr>\n",
       "    <tr>\n",
       "      <th>76</th>\n",
       "      <td>20.0</td>\n",
       "      <td>4.000000</td>\n",
       "      <td>0</td>\n",
       "      <td>1</td>\n",
       "    </tr>\n",
       "    <tr>\n",
       "      <th>77</th>\n",
       "      <td>0.0</td>\n",
       "      <td>4.000000</td>\n",
       "      <td>0</td>\n",
       "      <td>1</td>\n",
       "    </tr>\n",
       "    <tr>\n",
       "      <th>78</th>\n",
       "      <td>100.0</td>\n",
       "      <td>4.000000</td>\n",
       "      <td>2</td>\n",
       "      <td>0</td>\n",
       "    </tr>\n",
       "    <tr>\n",
       "      <th>79</th>\n",
       "      <td>40.0</td>\n",
       "      <td>0.500195</td>\n",
       "      <td>0</td>\n",
       "      <td>1</td>\n",
       "    </tr>\n",
       "    <tr>\n",
       "      <th>80</th>\n",
       "      <td>50.0</td>\n",
       "      <td>0.500195</td>\n",
       "      <td>2</td>\n",
       "      <td>0</td>\n",
       "    </tr>\n",
       "    <tr>\n",
       "      <th>81</th>\n",
       "      <td>50.0</td>\n",
       "      <td>4.000000</td>\n",
       "      <td>0</td>\n",
       "      <td>2</td>\n",
       "    </tr>\n",
       "    <tr>\n",
       "      <th>83</th>\n",
       "      <td>5.0</td>\n",
       "      <td>0.500195</td>\n",
       "      <td>0</td>\n",
       "      <td>1</td>\n",
       "    </tr>\n",
       "    <tr>\n",
       "      <th>84</th>\n",
       "      <td>5.0</td>\n",
       "      <td>4.000000</td>\n",
       "      <td>1</td>\n",
       "      <td>2</td>\n",
       "    </tr>\n",
       "    <tr>\n",
       "      <th>85</th>\n",
       "      <td>20.0</td>\n",
       "      <td>4.000000</td>\n",
       "      <td>0</td>\n",
       "      <td>1</td>\n",
       "    </tr>\n",
       "    <tr>\n",
       "      <th>86</th>\n",
       "      <td>100.0</td>\n",
       "      <td>4.000000</td>\n",
       "      <td>0</td>\n",
       "      <td>0</td>\n",
       "    </tr>\n",
       "    <tr>\n",
       "      <th>87</th>\n",
       "      <td>200.0</td>\n",
       "      <td>4.000000</td>\n",
       "      <td>0</td>\n",
       "      <td>1</td>\n",
       "    </tr>\n",
       "    <tr>\n",
       "      <th>88</th>\n",
       "      <td>30.0</td>\n",
       "      <td>5.772201</td>\n",
       "      <td>1</td>\n",
       "      <td>0</td>\n",
       "    </tr>\n",
       "    <tr>\n",
       "      <th>89</th>\n",
       "      <td>4.0</td>\n",
       "      <td>4.000000</td>\n",
       "      <td>2</td>\n",
       "      <td>0</td>\n",
       "    </tr>\n",
       "    <tr>\n",
       "      <th>90</th>\n",
       "      <td>30.0</td>\n",
       "      <td>4.000000</td>\n",
       "      <td>1</td>\n",
       "      <td>1</td>\n",
       "    </tr>\n",
       "    <tr>\n",
       "      <th>91</th>\n",
       "      <td>4.0</td>\n",
       "      <td>4.000000</td>\n",
       "      <td>2</td>\n",
       "      <td>0</td>\n",
       "    </tr>\n",
       "    <tr>\n",
       "      <th>92</th>\n",
       "      <td>100.0</td>\n",
       "      <td>0.500195</td>\n",
       "      <td>2</td>\n",
       "      <td>0</td>\n",
       "    </tr>\n",
       "    <tr>\n",
       "      <th>93</th>\n",
       "      <td>15.0</td>\n",
       "      <td>0.500195</td>\n",
       "      <td>0</td>\n",
       "      <td>2</td>\n",
       "    </tr>\n",
       "    <tr>\n",
       "      <th>94</th>\n",
       "      <td>150.0</td>\n",
       "      <td>0.500195</td>\n",
       "      <td>0</td>\n",
       "      <td>1</td>\n",
       "    </tr>\n",
       "    <tr>\n",
       "      <th>95</th>\n",
       "      <td>100000.0</td>\n",
       "      <td>4.000000</td>\n",
       "      <td>0</td>\n",
       "      <td>1</td>\n",
       "    </tr>\n",
       "    <tr>\n",
       "      <th>96</th>\n",
       "      <td>20.0</td>\n",
       "      <td>4.000000</td>\n",
       "      <td>1</td>\n",
       "      <td>0</td>\n",
       "    </tr>\n",
       "    <tr>\n",
       "      <th>97</th>\n",
       "      <td>20000.0</td>\n",
       "      <td>4.000000</td>\n",
       "      <td>0</td>\n",
       "      <td>1</td>\n",
       "    </tr>\n",
       "    <tr>\n",
       "      <th>98</th>\n",
       "      <td>100.0</td>\n",
       "      <td>4.000000</td>\n",
       "      <td>2</td>\n",
       "      <td>0</td>\n",
       "    </tr>\n",
       "    <tr>\n",
       "      <th>99</th>\n",
       "      <td>15.0</td>\n",
       "      <td>4.000000</td>\n",
       "      <td>0</td>\n",
       "      <td>1</td>\n",
       "    </tr>\n",
       "    <tr>\n",
       "      <th>100</th>\n",
       "      <td>100.0</td>\n",
       "      <td>4.000000</td>\n",
       "      <td>1</td>\n",
       "      <td>1</td>\n",
       "    </tr>\n",
       "    <tr>\n",
       "      <th>101</th>\n",
       "      <td>250.0</td>\n",
       "      <td>4.000000</td>\n",
       "      <td>0</td>\n",
       "      <td>2</td>\n",
       "    </tr>\n",
       "    <tr>\n",
       "      <th>102</th>\n",
       "      <td>100.0</td>\n",
       "      <td>4.000000</td>\n",
       "      <td>0</td>\n",
       "      <td>1</td>\n",
       "    </tr>\n",
       "    <tr>\n",
       "      <th>103</th>\n",
       "      <td>100.0</td>\n",
       "      <td>4.000000</td>\n",
       "      <td>1</td>\n",
       "      <td>1</td>\n",
       "    </tr>\n",
       "  </tbody>\n",
       "</table>\n",
       "<p>101 rows × 4 columns</p>\n",
       "</div>"
      ],
      "text/plain": [
       "     How many people do you follow on social media?  \\\n",
       "0                                              20.0   \n",
       "1                                               4.0   \n",
       "2                                               4.0   \n",
       "3                                             200.0   \n",
       "4                                             100.0   \n",
       "5                                             200.0   \n",
       "6                                             100.0   \n",
       "7                                              20.0   \n",
       "8                                              15.0   \n",
       "9                                               4.0   \n",
       "10                                             20.0   \n",
       "11                                             15.0   \n",
       "12                                              1.0   \n",
       "13                                            400.0   \n",
       "14                                            300.0   \n",
       "15                                              0.0   \n",
       "16                                             20.0   \n",
       "17                                              4.0   \n",
       "18                                              4.0   \n",
       "19                                             50.0   \n",
       "20                                            100.0   \n",
       "21                                            300.0   \n",
       "22                                            220.0   \n",
       "23                                              5.0   \n",
       "25                                              5.0   \n",
       "26                                            100.0   \n",
       "27                                             20.0   \n",
       "28                                            200.0   \n",
       "29                                            100.0   \n",
       "30                                           1000.0   \n",
       "..                                              ...   \n",
       "73                                             25.0   \n",
       "74                                             20.0   \n",
       "75                                            500.0   \n",
       "76                                             20.0   \n",
       "77                                              0.0   \n",
       "78                                            100.0   \n",
       "79                                             40.0   \n",
       "80                                             50.0   \n",
       "81                                             50.0   \n",
       "83                                              5.0   \n",
       "84                                              5.0   \n",
       "85                                             20.0   \n",
       "86                                            100.0   \n",
       "87                                            200.0   \n",
       "88                                             30.0   \n",
       "89                                              4.0   \n",
       "90                                             30.0   \n",
       "91                                              4.0   \n",
       "92                                            100.0   \n",
       "93                                             15.0   \n",
       "94                                            150.0   \n",
       "95                                         100000.0   \n",
       "96                                             20.0   \n",
       "97                                          20000.0   \n",
       "98                                            100.0   \n",
       "99                                             15.0   \n",
       "100                                           100.0   \n",
       "101                                           250.0   \n",
       "102                                           100.0   \n",
       "103                                           100.0   \n",
       "\n",
       "     Daily spent time in social media (hour)  \\\n",
       "0                                   0.500195   \n",
       "1                                   4.000000   \n",
       "2                                   4.000000   \n",
       "3                                   5.772201   \n",
       "4                                   4.000000   \n",
       "5                                   4.000000   \n",
       "6                                   4.000000   \n",
       "7                                   0.500195   \n",
       "8                                   4.000000   \n",
       "9                                   0.500195   \n",
       "10                                  4.000000   \n",
       "11                                  0.500195   \n",
       "12                                  4.000000   \n",
       "13                                  4.000000   \n",
       "14                                  4.000000   \n",
       "15                                  0.500195   \n",
       "16                                  4.000000   \n",
       "17                                  4.000000   \n",
       "18                                  4.000000   \n",
       "19                                  4.000000   \n",
       "20                                  4.000000   \n",
       "21                                  4.000000   \n",
       "22                                  4.000000   \n",
       "23                                  5.772201   \n",
       "25                                  4.000000   \n",
       "26                                  0.500195   \n",
       "27                                  4.000000   \n",
       "28                                  0.500195   \n",
       "29                                  4.000000   \n",
       "30                                  4.000000   \n",
       "..                                       ...   \n",
       "73                                  4.000000   \n",
       "74                                  5.772201   \n",
       "75                                  4.000000   \n",
       "76                                  4.000000   \n",
       "77                                  4.000000   \n",
       "78                                  4.000000   \n",
       "79                                  0.500195   \n",
       "80                                  0.500195   \n",
       "81                                  4.000000   \n",
       "83                                  0.500195   \n",
       "84                                  4.000000   \n",
       "85                                  4.000000   \n",
       "86                                  4.000000   \n",
       "87                                  4.000000   \n",
       "88                                  5.772201   \n",
       "89                                  4.000000   \n",
       "90                                  4.000000   \n",
       "91                                  4.000000   \n",
       "92                                  0.500195   \n",
       "93                                  0.500195   \n",
       "94                                  0.500195   \n",
       "95                                  4.000000   \n",
       "96                                  4.000000   \n",
       "97                                  4.000000   \n",
       "98                                  4.000000   \n",
       "99                                  4.000000   \n",
       "100                                 4.000000   \n",
       "101                                 4.000000   \n",
       "102                                 4.000000   \n",
       "103                                 4.000000   \n",
       "\n",
       "     Do you feel low seeing other people's achievement on social media  \\\n",
       "0                                                    0                   \n",
       "1                                                    0                   \n",
       "2                                                    1                   \n",
       "3                                                    0                   \n",
       "4                                                    0                   \n",
       "5                                                    1                   \n",
       "6                                                    0                   \n",
       "7                                                    0                   \n",
       "8                                                    0                   \n",
       "9                                                    0                   \n",
       "10                                                   1                   \n",
       "11                                                   0                   \n",
       "12                                                   0                   \n",
       "13                                                   2                   \n",
       "14                                                   2                   \n",
       "15                                                   2                   \n",
       "16                                                   2                   \n",
       "17                                                   0                   \n",
       "18                                                   0                   \n",
       "19                                                   2                   \n",
       "20                                                   0                   \n",
       "21                                                   0                   \n",
       "22                                                   0                   \n",
       "23                                                   1                   \n",
       "25                                                   0                   \n",
       "26                                                   0                   \n",
       "27                                                   2                   \n",
       "28                                                   1                   \n",
       "29                                                   2                   \n",
       "30                                                   0                   \n",
       "..                                                 ...                   \n",
       "73                                                   1                   \n",
       "74                                                   1                   \n",
       "75                                                   1                   \n",
       "76                                                   0                   \n",
       "77                                                   0                   \n",
       "78                                                   2                   \n",
       "79                                                   0                   \n",
       "80                                                   2                   \n",
       "81                                                   0                   \n",
       "83                                                   0                   \n",
       "84                                                   1                   \n",
       "85                                                   0                   \n",
       "86                                                   0                   \n",
       "87                                                   0                   \n",
       "88                                                   1                   \n",
       "89                                                   2                   \n",
       "90                                                   1                   \n",
       "91                                                   2                   \n",
       "92                                                   2                   \n",
       "93                                                   0                   \n",
       "94                                                   0                   \n",
       "95                                                   0                   \n",
       "96                                                   1                   \n",
       "97                                                   0                   \n",
       "98                                                   2                   \n",
       "99                                                   0                   \n",
       "100                                                  1                   \n",
       "101                                                  0                   \n",
       "102                                                  0                   \n",
       "103                                                  1                   \n",
       "\n",
       "     Are you happy with current situation?  \n",
       "0                                        1  \n",
       "1                                        0  \n",
       "2                                        2  \n",
       "3                                        0  \n",
       "4                                        1  \n",
       "5                                        0  \n",
       "6                                        1  \n",
       "7                                        1  \n",
       "8                                        2  \n",
       "9                                        1  \n",
       "10                                       2  \n",
       "11                                       0  \n",
       "12                                       2  \n",
       "13                                       2  \n",
       "14                                       1  \n",
       "15                                       1  \n",
       "16                                       0  \n",
       "17                                       1  \n",
       "18                                       1  \n",
       "19                                       2  \n",
       "20                                       2  \n",
       "21                                       0  \n",
       "22                                       2  \n",
       "23                                       1  \n",
       "25                                       1  \n",
       "26                                       0  \n",
       "27                                       0  \n",
       "28                                       1  \n",
       "29                                       1  \n",
       "30                                       0  \n",
       "..                                     ...  \n",
       "73                                       1  \n",
       "74                                       0  \n",
       "75                                       0  \n",
       "76                                       1  \n",
       "77                                       1  \n",
       "78                                       0  \n",
       "79                                       1  \n",
       "80                                       0  \n",
       "81                                       2  \n",
       "83                                       1  \n",
       "84                                       2  \n",
       "85                                       1  \n",
       "86                                       0  \n",
       "87                                       1  \n",
       "88                                       0  \n",
       "89                                       0  \n",
       "90                                       1  \n",
       "91                                       0  \n",
       "92                                       0  \n",
       "93                                       2  \n",
       "94                                       1  \n",
       "95                                       1  \n",
       "96                                       0  \n",
       "97                                       1  \n",
       "98                                       0  \n",
       "99                                       1  \n",
       "100                                      1  \n",
       "101                                      2  \n",
       "102                                      1  \n",
       "103                                      1  \n",
       "\n",
       "[101 rows x 4 columns]"
      ]
     },
     "execution_count": 263,
     "metadata": {},
     "output_type": "execute_result"
    }
   ],
   "source": [
    "Dataset"
   ]
  },
  {
   "cell_type": "code",
   "execution_count": null,
   "metadata": {},
   "outputs": [],
   "source": []
  },
  {
   "cell_type": "code",
   "execution_count": 260,
   "metadata": {},
   "outputs": [
    {
     "data": {
      "text/html": [
       "<div>\n",
       "<style scoped>\n",
       "    .dataframe tbody tr th:only-of-type {\n",
       "        vertical-align: middle;\n",
       "    }\n",
       "\n",
       "    .dataframe tbody tr th {\n",
       "        vertical-align: top;\n",
       "    }\n",
       "\n",
       "    .dataframe thead th {\n",
       "        text-align: right;\n",
       "    }\n",
       "</style>\n",
       "<table border=\"1\" class=\"dataframe\">\n",
       "  <thead>\n",
       "    <tr style=\"text-align: right;\">\n",
       "      <th></th>\n",
       "      <th>How many people do you follow on social media?</th>\n",
       "      <th>Daily spent time in social media (hour)</th>\n",
       "      <th>Do you feel low seeing other people's achievement on social media</th>\n",
       "      <th>Are you happy with current situation?</th>\n",
       "    </tr>\n",
       "  </thead>\n",
       "  <tbody>\n",
       "    <tr>\n",
       "      <th>0</th>\n",
       "      <td>20.0</td>\n",
       "      <td>0.500195</td>\n",
       "      <td>0</td>\n",
       "      <td>1</td>\n",
       "    </tr>\n",
       "    <tr>\n",
       "      <th>1</th>\n",
       "      <td>4.0</td>\n",
       "      <td>4.000000</td>\n",
       "      <td>0</td>\n",
       "      <td>0</td>\n",
       "    </tr>\n",
       "    <tr>\n",
       "      <th>2</th>\n",
       "      <td>4.0</td>\n",
       "      <td>4.000000</td>\n",
       "      <td>1</td>\n",
       "      <td>2</td>\n",
       "    </tr>\n",
       "    <tr>\n",
       "      <th>3</th>\n",
       "      <td>200.0</td>\n",
       "      <td>5.772201</td>\n",
       "      <td>0</td>\n",
       "      <td>0</td>\n",
       "    </tr>\n",
       "    <tr>\n",
       "      <th>4</th>\n",
       "      <td>100.0</td>\n",
       "      <td>4.000000</td>\n",
       "      <td>0</td>\n",
       "      <td>1</td>\n",
       "    </tr>\n",
       "  </tbody>\n",
       "</table>\n",
       "</div>"
      ],
      "text/plain": [
       "   How many people do you follow on social media?  \\\n",
       "0                                            20.0   \n",
       "1                                             4.0   \n",
       "2                                             4.0   \n",
       "3                                           200.0   \n",
       "4                                           100.0   \n",
       "\n",
       "   Daily spent time in social media (hour)  \\\n",
       "0                                 0.500195   \n",
       "1                                 4.000000   \n",
       "2                                 4.000000   \n",
       "3                                 5.772201   \n",
       "4                                 4.000000   \n",
       "\n",
       "   Do you feel low seeing other people's achievement on social media  \\\n",
       "0                                                  0                   \n",
       "1                                                  0                   \n",
       "2                                                  1                   \n",
       "3                                                  0                   \n",
       "4                                                  0                   \n",
       "\n",
       "   Are you happy with current situation?  \n",
       "0                                      1  \n",
       "1                                      0  \n",
       "2                                      2  \n",
       "3                                      0  \n",
       "4                                      1  "
      ]
     },
     "execution_count": 260,
     "metadata": {},
     "output_type": "execute_result"
    }
   ],
   "source": [
    "Dataset.head()"
   ]
  },
  {
   "cell_type": "code",
   "execution_count": null,
   "metadata": {},
   "outputs": [],
   "source": []
  },
  {
   "cell_type": "code",
   "execution_count": 222,
   "metadata": {},
   "outputs": [
    {
     "data": {
      "text/html": [
       "<div>\n",
       "<style scoped>\n",
       "    .dataframe tbody tr th:only-of-type {\n",
       "        vertical-align: middle;\n",
       "    }\n",
       "\n",
       "    .dataframe tbody tr th {\n",
       "        vertical-align: top;\n",
       "    }\n",
       "\n",
       "    .dataframe thead th {\n",
       "        text-align: right;\n",
       "    }\n",
       "</style>\n",
       "<table border=\"1\" class=\"dataframe\">\n",
       "  <thead>\n",
       "    <tr style=\"text-align: right;\">\n",
       "      <th></th>\n",
       "      <th>How many people do you follow on social media?</th>\n",
       "      <th>Daily spent time in social media (hour)</th>\n",
       "      <th>Do you feel low seeing other people's achievement on social media</th>\n",
       "      <th>Are you happy with current situation?</th>\n",
       "    </tr>\n",
       "  </thead>\n",
       "  <tbody>\n",
       "    <tr>\n",
       "      <th>0</th>\n",
       "      <td>20.0</td>\n",
       "      <td>0.500195</td>\n",
       "      <td>0</td>\n",
       "      <td>1</td>\n",
       "    </tr>\n",
       "    <tr>\n",
       "      <th>1</th>\n",
       "      <td>4.0</td>\n",
       "      <td>4.000000</td>\n",
       "      <td>0</td>\n",
       "      <td>0</td>\n",
       "    </tr>\n",
       "    <tr>\n",
       "      <th>2</th>\n",
       "      <td>4.0</td>\n",
       "      <td>4.000000</td>\n",
       "      <td>1</td>\n",
       "      <td>2</td>\n",
       "    </tr>\n",
       "    <tr>\n",
       "      <th>3</th>\n",
       "      <td>200.0</td>\n",
       "      <td>5.772201</td>\n",
       "      <td>0</td>\n",
       "      <td>0</td>\n",
       "    </tr>\n",
       "    <tr>\n",
       "      <th>4</th>\n",
       "      <td>100.0</td>\n",
       "      <td>4.000000</td>\n",
       "      <td>0</td>\n",
       "      <td>1</td>\n",
       "    </tr>\n",
       "  </tbody>\n",
       "</table>\n",
       "</div>"
      ],
      "text/plain": [
       "   How many people do you follow on social media?  \\\n",
       "0                                            20.0   \n",
       "1                                             4.0   \n",
       "2                                             4.0   \n",
       "3                                           200.0   \n",
       "4                                           100.0   \n",
       "\n",
       "   Daily spent time in social media (hour)  \\\n",
       "0                                 0.500195   \n",
       "1                                 4.000000   \n",
       "2                                 4.000000   \n",
       "3                                 5.772201   \n",
       "4                                 4.000000   \n",
       "\n",
       "   Do you feel low seeing other people's achievement on social media  \\\n",
       "0                                                  0                   \n",
       "1                                                  0                   \n",
       "2                                                  1                   \n",
       "3                                                  0                   \n",
       "4                                                  0                   \n",
       "\n",
       "   Are you happy with current situation?  \n",
       "0                                      1  \n",
       "1                                      0  \n",
       "2                                      2  \n",
       "3                                      0  \n",
       "4                                      1  "
      ]
     },
     "execution_count": 222,
     "metadata": {},
     "output_type": "execute_result"
    }
   ],
   "source": [
    "Dataset.head()"
   ]
  },
  {
   "cell_type": "code",
   "execution_count": 265,
   "metadata": {},
   "outputs": [
    {
     "data": {
      "text/plain": [
       "<matplotlib.collections.PathCollection at 0x1d596d65828>"
      ]
     },
     "execution_count": 265,
     "metadata": {},
     "output_type": "execute_result"
    },
    {
     "data": {
      "image/png": "[encoded data removed]",
      "text/plain": [
       "<Figure size 432x288 with 1 Axes>"
      ]
     },
     "metadata": {
      "needs_background": "light"
     },
     "output_type": "display_data"
    }
   ],
   "source": [
    "y = Dataset[\"How many people do you follow on social media?\"]\n",
    "x\n",
    "rng = np.random.RandomState(0)\n",
    "x = rng.randn(101)\n",
    "plt.scatter(x,y,alpha= 0.5, cmap='viridis')"
   ]
  },
  {
   "cell_type": "code",
   "execution_count": 229,
   "metadata": {},
   "outputs": [
    {
     "data": {
      "text/plain": [
       "<matplotlib.axes._subplots.AxesSubplot at 0x1d595567f98>"
      ]
     },
     "execution_count": 229,
     "metadata": {},
     "output_type": "execute_result"
    },
    {
     "data": {
      "image/png": "[encoded data removed]",
      "text/plain": [
       "<Figure size 432x288 with 1 Axes>"
      ]
     },
     "metadata": {
      "needs_background": "light"
     },
     "output_type": "display_data"
    }
   ],
   "source": [
    "Dataset.plot.kde()"
   ]
  },
  {
   "cell_type": "code",
   "execution_count": 230,
   "metadata": {},
   "outputs": [
    {
     "data": {
      "text/plain": [
       "<matplotlib.axes._subplots.AxesSubplot at 0x1d595629400>"
      ]
     },
     "execution_count": 230,
     "metadata": {},
     "output_type": "execute_result"
    },
    {
     "data": {
      "image/png": "[encoded data removed]",
      "text/plain": [
       "<Figure size 432x288 with 1 Axes>"
      ]
     },
     "metadata": {
      "needs_background": "light"
     },
     "output_type": "display_data"
    }
   ],
   "source": [
    "Dataset.boxplot(by=['How many people do you follow on social media?'], column=['Are you happy with current situation?'], grid= False)"
   ]
  },
  {
   "cell_type": "code",
   "execution_count": 233,
   "metadata": {},
   "outputs": [
    {
     "data": {
      "text/plain": [
       "array([1, 0, 2, 0, 1, 0, 1, 1, 2, 1, 2, 0, 2, 2, 1, 1, 0, 1, 1, 2, 2, 0,\n",
       "       2, 1, 1, 0, 0, 1, 1, 0, 1, 1, 1, 1, 1, 1, 0, 1, 1, 0, 1, 2, 2, 2,\n",
       "       2, 0, 1, 2, 1, 1, 2, 1, 2, 0, 0, 0, 1, 1, 2, 0, 0, 2, 1, 1, 1, 1,\n",
       "       2, 2, 1, 1, 1, 1, 0, 0, 1, 1, 0, 1, 0, 2, 1, 2, 1, 0, 1, 0, 0, 1,\n",
       "       0, 0, 2, 1, 1, 0, 1, 0, 1, 1, 2, 1, 1], dtype=int64)"
      ]
     },
     "execution_count": 233,
     "metadata": {},
     "output_type": "execute_result"
    }
   ],
   "source": [
    "import numpy as np\n",
    "import matplotlib.pyplot as plt\n",
    "import pandas as pd\n",
    "X = Dataset.iloc[:, 0:3].values\n",
    "y = Dataset.iloc[:, 3].values\n",
    "\n",
    "# Splitting the dataset into the Training set and Test set\n",
    "from sklearn.model_selection import train_test_split\n",
    "X_train, X_test, y_train, y_test = train_test_split(X, y, test_size = 0.3, random_state = 0)\n",
    "\n",
    "y\n"
   ]
  },
  {
   "cell_type": "code",
   "execution_count": 243,
   "metadata": {},
   "outputs": [],
   "source": [
    "# Fitting K-NN to the Training set\n",
    "from sklearn.neighbors import KNeighborsClassifier\n",
    "classifier = KNeighborsClassifier(n_neighbors = 3, metric = 'minkowski', p = 2)\n",
    "classifier.fit(X_train, y_train)\n",
    "\n",
    "# Predicting the Test set results\n",
    "y_pred = classifier.predict(X_test)\n",
    "\n",
    "# Making the Confusion Matrix\n",
    "from sklearn.metrics import confusion_matrix\n",
    "cm = confusion_matrix(y_test, y_pred)"
   ]
  },
  {
   "cell_type": "code",
   "execution_count": 244,
   "metadata": {},
   "outputs": [],
   "source": [
    "def plot_conf_mat(lTrue, lPred, title):\n",
    "    \"\"\" A function for plotting the confusion matrix given true and predicted labels.\"\"\"\n",
    "    cm = confusion_matrix(lTrue.astype(int), lPred.astype(int))\n",
    "    print(cm)\n",
    "    fig = plt.figure()\n",
    "    ax = fig.add_subplot(111)\n",
    "    cax = ax.matshow(cm)\n",
    "    plt.title(title)\n",
    "    plt.xlabel('Predicted')\n",
    "    plt.ylabel('True')\n",
    "    plt.show() "
   ]
  },
  {
   "cell_type": "code",
   "execution_count": 245,
   "metadata": {},
   "outputs": [
    {
     "name": "stdout",
     "output_type": "stream",
     "text": [
      "[[4 7 2]\n",
      " [2 9 2]\n",
      " [2 3 0]]\n"
     ]
    },
    {
     "data": {
      "image/png": "[encoded data removed]",
      "text/plain": [
       "<Figure size 432x288 with 1 Axes>"
      ]
     },
     "metadata": {
      "needs_background": "light"
     },
     "output_type": "display_data"
    }
   ],
   "source": [
    "plot_conf_mat(y_test, y_pred, 'K=3')"
   ]
  },
  {
   "cell_type": "code",
   "execution_count": null,
   "metadata": {},
   "outputs": [],
   "source": []
  },
  {
   "cell_type": "code",
   "execution_count": 251,
   "metadata": {},
   "outputs": [],
   "source": [
    "\n",
    "import numpy as np\n",
    "from sklearn.preprocessing import Imputer\n",
    "from sklearn.model_selection import train_test_split\n",
    "from sklearn.neighbors import KNeighborsClassifier\n",
    "from sklearn.metrics import accuracy_score"
   ]
  },
  {
   "cell_type": "code",
   "execution_count": 268,
   "metadata": {},
   "outputs": [
    {
     "name": "stdout",
     "output_type": "stream",
     "text": [
      "Accuracy is  35.483870967741936 % for K-Value: 1\n",
      "[[4 4 5]\n",
      " [3 7 3]\n",
      " [1 4 0]]\n"
     ]
    },
    {
     "data": {
      "image/png": "[encoded data removed]",
      "text/plain": [
       "<Figure size 432x288 with 1 Axes>"
      ]
     },
     "metadata": {
      "needs_background": "light"
     },
     "output_type": "display_data"
    },
    {
     "name": "stdout",
     "output_type": "stream",
     "text": [
      "Accuracy is  38.70967741935484 % for K-Value: 2\n",
      "[[5 7 1]\n",
      " [4 7 2]\n",
      " [2 3 0]]\n"
     ]
    },
    {
     "data": {
      "image/png": "[encoded data removed]",
      "text/plain": [
       "<Figure size 432x288 with 1 Axes>"
      ]
     },
     "metadata": {
      "needs_background": "light"
     },
     "output_type": "display_data"
    },
    {
     "name": "stdout",
     "output_type": "stream",
     "text": [
      "Accuracy is  41.935483870967744 % for K-Value: 3\n",
      "[[4 7 2]\n",
      " [2 9 2]\n",
      " [2 3 0]]\n"
     ]
    },
    {
     "data": {
      "image/png": "[encoded data removed]",
      "text/plain": [
       "<Figure size 432x288 with 1 Axes>"
      ]
     },
     "metadata": {
      "needs_background": "light"
     },
     "output_type": "display_data"
    },
    {
     "name": "stdout",
     "output_type": "stream",
     "text": [
      "Accuracy is  41.935483870967744 % for K-Value: 4\n",
      "[[ 1  9  3]\n",
      " [ 0 12  1]\n",
      " [ 0  5  0]]\n"
     ]
    },
    {
     "data": {
      "image/png": "[encoded data removed]",
      "text/plain": [
       "<Figure size 432x288 with 1 Axes>"
      ]
     },
     "metadata": {
      "needs_background": "light"
     },
     "output_type": "display_data"
    },
    {
     "name": "stdout",
     "output_type": "stream",
     "text": [
      "Accuracy is  54.83870967741935 % for K-Value: 5\n",
      "[[ 5  7  1]\n",
      " [ 0 12  1]\n",
      " [ 1  4  0]]\n"
     ]
    },
    {
     "data": {
      "image/png": "[encoded data removed]",
      "text/plain": [
       "<Figure size 432x288 with 1 Axes>"
      ]
     },
     "metadata": {
      "needs_background": "light"
     },
     "output_type": "display_data"
    },
    {
     "name": "stdout",
     "output_type": "stream",
     "text": [
      "Accuracy is  38.70967741935484 % for K-Value: 6\n",
      "[[ 2 10  1]\n",
      " [ 1 10  2]\n",
      " [ 1  4  0]]\n"
     ]
    },
    {
     "data": {
      "image/png": "[encoded data removed]",
      "text/plain": [
       "<Figure size 432x288 with 1 Axes>"
      ]
     },
     "metadata": {
      "needs_background": "light"
     },
     "output_type": "display_data"
    },
    {
     "name": "stdout",
     "output_type": "stream",
     "text": [
      "Accuracy is  38.70967741935484 % for K-Value: 7\n",
      "[[ 0 12  1]\n",
      " [ 0 12  1]\n",
      " [ 0  5  0]]\n"
     ]
    },
    {
     "data": {
      "image/png": "[encoded data removed]",
      "text/plain": [
       "<Figure size 432x288 with 1 Axes>"
      ]
     },
     "metadata": {
      "needs_background": "light"
     },
     "output_type": "display_data"
    },
    {
     "name": "stdout",
     "output_type": "stream",
     "text": [
      "Accuracy is  38.70967741935484 % for K-Value: 8\n",
      "[[ 0 13  0]\n",
      " [ 0 12  1]\n",
      " [ 0  5  0]]\n"
     ]
    },
    {
     "data": {
      "image/png": "[encoded data removed]",
      "text/plain": [
       "<Figure size 432x288 with 1 Axes>"
      ]
     },
     "metadata": {
      "needs_background": "light"
     },
     "output_type": "display_data"
    },
    {
     "name": "stdout",
     "output_type": "stream",
     "text": [
      "Accuracy is  41.935483870967744 % for K-Value: 9\n",
      "[[ 0 13  0]\n",
      " [ 0 13  0]\n",
      " [ 0  5  0]]\n"
     ]
    },
    {
     "data": {
      "image/png": "[encoded data removed]",
      "text/plain": [
       "<Figure size 432x288 with 1 Axes>"
      ]
     },
     "metadata": {
      "needs_background": "light"
     },
     "output_type": "display_data"
    },
    {
     "name": "stdout",
     "output_type": "stream",
     "text": [
      "Accuracy is  38.70967741935484 % for K-Value: 10\n",
      "[[ 0 12  1]\n",
      " [ 0 12  1]\n",
      " [ 0  5  0]]\n"
     ]
    },
    {
     "data": {
      "image/png": "[encoded data removed]",
      "text/plain": [
       "<Figure size 432x288 with 1 Axes>"
      ]
     },
     "metadata": {
      "needs_background": "light"
     },
     "output_type": "display_data"
    },
    {
     "name": "stdout",
     "output_type": "stream",
     "text": [
      "Accuracy is  38.70967741935484 % for K-Value: 11\n",
      "[[ 0 12  1]\n",
      " [ 0 12  1]\n",
      " [ 0  5  0]]\n"
     ]
    },
    {
     "data": {
      "image/png": "[encoded data removed]",
      "text/plain": [
       "<Figure size 432x288 with 1 Axes>"
      ]
     },
     "metadata": {
      "needs_background": "light"
     },
     "output_type": "display_data"
    },
    {
     "name": "stdout",
     "output_type": "stream",
     "text": [
      "Accuracy is  38.70967741935484 % for K-Value: 12\n",
      "[[ 0 12  1]\n",
      " [ 0 12  1]\n",
      " [ 0  5  0]]\n"
     ]
    },
    {
     "data": {
      "image/png": "[encoded data removed]",
      "text/plain": [
       "<Figure size 432x288 with 1 Axes>"
      ]
     },
     "metadata": {
      "needs_background": "light"
     },
     "output_type": "display_data"
    },
    {
     "name": "stdout",
     "output_type": "stream",
     "text": [
      "Accuracy is  41.935483870967744 % for K-Value: 13\n",
      "[[ 0 12  1]\n",
      " [ 0 12  1]\n",
      " [ 0  4  1]]\n"
     ]
    },
    {
     "data": {
      "image/png": "[encoded data removed]",
      "text/plain": [
       "<Figure size 432x288 with 1 Axes>"
      ]
     },
     "metadata": {
      "needs_background": "light"
     },
     "output_type": "display_data"
    },
    {
     "name": "stdout",
     "output_type": "stream",
     "text": [
      "Accuracy is  38.70967741935484 % for K-Value: 14\n",
      "[[ 0 13  0]\n",
      " [ 0 12  1]\n",
      " [ 0  5  0]]\n"
     ]
    },
    {
     "data": {
      "image/png": "[encoded data removed]",
      "text/plain": [
       "<Figure size 432x288 with 1 Axes>"
      ]
     },
     "metadata": {
      "needs_background": "light"
     },
     "output_type": "display_data"
    },
    {
     "name": "stdout",
     "output_type": "stream",
     "text": [
      "Accuracy is  38.70967741935484 % for K-Value: 15\n",
      "[[ 0 10  3]\n",
      " [ 0 11  2]\n",
      " [ 0  4  1]]\n"
     ]
    },
    {
     "data": {
      "image/png": "[encoded data removed]",
      "text/plain": [
       "<Figure size 432x288 with 1 Axes>"
      ]
     },
     "metadata": {
      "needs_background": "light"
     },
     "output_type": "display_data"
    },
    {
     "name": "stdout",
     "output_type": "stream",
     "text": [
      "Accuracy is  38.70967741935484 % for K-Value: 16\n",
      "[[ 0 11  2]\n",
      " [ 0 11  2]\n",
      " [ 0  4  1]]\n"
     ]
    },
    {
     "data": {
      "image/png": "[encoded data removed]",
      "text/plain": [
       "<Figure size 432x288 with 1 Axes>"
      ]
     },
     "metadata": {
      "needs_background": "light"
     },
     "output_type": "display_data"
    },
    {
     "name": "stdout",
     "output_type": "stream",
     "text": [
      "Accuracy is  38.70967741935484 % for K-Value: 17\n",
      "[[ 0 10  3]\n",
      " [ 0 11  2]\n",
      " [ 0  4  1]]\n"
     ]
    },
    {
     "data": {
      "image/png": "[encoded data removed]",
      "text/plain": [
       "<Figure size 432x288 with 1 Axes>"
      ]
     },
     "metadata": {
      "needs_background": "light"
     },
     "output_type": "display_data"
    },
    {
     "name": "stdout",
     "output_type": "stream",
     "text": [
      "Accuracy is  38.70967741935484 % for K-Value: 18\n",
      "[[ 0 10  3]\n",
      " [ 0 11  2]\n",
      " [ 0  4  1]]\n"
     ]
    },
    {
     "data": {
      "image/png": "[encoded data removed]",
      "text/plain": [
       "<Figure size 432x288 with 1 Axes>"
      ]
     },
     "metadata": {
      "needs_background": "light"
     },
     "output_type": "display_data"
    },
    {
     "name": "stdout",
     "output_type": "stream",
     "text": [
      "Accuracy is  38.70967741935484 % for K-Value: 19\n",
      "[[ 0 10  3]\n",
      " [ 0 11  2]\n",
      " [ 0  4  1]]\n"
     ]
    },
    {
     "data": {
      "image/png": "[encoded data removed]",
      "text/plain": [
       "<Figure size 432x288 with 1 Axes>"
      ]
     },
     "metadata": {
      "needs_background": "light"
     },
     "output_type": "display_data"
    },
    {
     "name": "stdout",
     "output_type": "stream",
     "text": [
      "Accuracy is  38.70967741935484 % for K-Value: 20\n",
      "[[ 0 10  3]\n",
      " [ 0 11  2]\n",
      " [ 0  4  1]]\n"
     ]
    },
    {
     "data": {
      "image/png": "[encoded data removed]",
      "text/plain": [
       "<Figure size 432x288 with 1 Axes>"
      ]
     },
     "metadata": {
      "needs_background": "light"
     },
     "output_type": "display_data"
    },
    {
     "name": "stdout",
     "output_type": "stream",
     "text": [
      "Accuracy is  45.16129032258064 % for K-Value: 21\n",
      "[[ 0 12  1]\n",
      " [ 0 13  0]\n",
      " [ 0  4  1]]\n"
     ]
    },
    {
     "data": {
      "image/png": "[encoded data removed]",
      "text/plain": [
       "<Figure size 432x288 with 1 Axes>"
      ]
     },
     "metadata": {
      "needs_background": "light"
     },
     "output_type": "display_data"
    },
    {
     "name": "stdout",
     "output_type": "stream",
     "text": [
      "Accuracy is  38.70967741935484 % for K-Value: 22\n",
      "[[ 0 11  2]\n",
      " [ 0 11  2]\n",
      " [ 0  4  1]]\n"
     ]
    },
    {
     "data": {
      "image/png": "[encoded data removed]",
      "text/plain": [
       "<Figure size 432x288 with 1 Axes>"
      ]
     },
     "metadata": {
      "needs_background": "light"
     },
     "output_type": "display_data"
    },
    {
     "name": "stdout",
     "output_type": "stream",
     "text": [
      "Accuracy is  38.70967741935484 % for K-Value: 23\n",
      "[[ 0 11  2]\n",
      " [ 0 11  2]\n",
      " [ 0  4  1]]\n"
     ]
    },
    {
     "data": {
      "image/png": "[encoded data removed]",
      "text/plain": [
       "<Figure size 432x288 with 1 Axes>"
      ]
     },
     "metadata": {
      "needs_background": "light"
     },
     "output_type": "display_data"
    },
    {
     "name": "stdout",
     "output_type": "stream",
     "text": [
      "Accuracy is  45.16129032258064 % for K-Value: 24\n",
      "[[ 0 12  1]\n",
      " [ 0 13  0]\n",
      " [ 0  4  1]]\n"
     ]
    },
    {
     "data": {
      "image/png": "[encoded data removed]",
      "text/plain": [
       "<Figure size 432x288 with 1 Axes>"
      ]
     },
     "metadata": {
      "needs_background": "light"
     },
     "output_type": "display_data"
    },
    {
     "name": "stdout",
     "output_type": "stream",
     "text": [
      "Accuracy is  41.935483870967744 % for K-Value: 25\n",
      "[[ 0 13  0]\n",
      " [ 0 13  0]\n",
      " [ 0  5  0]]\n"
     ]
    },
    {
     "data": {
      "image/png": "[encoded data removed]",
      "text/plain": [
       "<Figure size 432x288 with 1 Axes>"
      ]
     },
     "metadata": {
      "needs_background": "light"
     },
     "output_type": "display_data"
    }
   ],
   "source": [
    "K1 = []\n",
    "A = []\n",
    "for K in range(25):\n",
    " K_value = K+1\n",
    " K1.append(K_value)\n",
    " neigh = KNeighborsClassifier(n_neighbors = K_value, weights='uniform', algorithm='auto')\n",
    " neigh.fit(X_train, y_train) \n",
    " y_pred = neigh.predict(X_test)\n",
    " A.append(accuracy_score(y_test,y_pred)*100)\n",
    " print (\"Accuracy is \", accuracy_score(y_test,y_pred)*100,\"% for K-Value:\",K_value)\n",
    " plot_conf_mat(y_test, y_pred,K_value)"
   ]
  },
  {
   "cell_type": "code",
   "execution_count": 258,
   "metadata": {},
   "outputs": [
    {
     "data": {
      "image/png": "[encoded data removed]",
      "text/plain": [
       "<Figure size 432x288 with 1 Axes>"
      ]
     },
     "metadata": {
      "needs_background": "light"
     },
     "output_type": "display_data"
    }
   ],
   "source": [
    "plt.plot(K1,A)\n",
    "\n",
    "plt.xlabel('K_Value')\n",
    "plt.ylabel('Accuracy');"
   ]
  },
  {
   "cell_type": "code",
   "execution_count": null,
   "metadata": {},
   "outputs": [],
   "source": []
  }
 ],
 "metadata": {
  "kernelspec": {
   "display_name": "Python 3",
   "language": "python",
   "name": "python3"
  },
  "language_info": {
   "codemirror_mode": {
    "name": "ipython",
    "version": 3
   },
   "file_extension": ".py",
   "mimetype": "text/x-python",
   "name": "python",
   "nbconvert_exporter": "python",
   "pygments_lexer": "ipython3",
   "version": "3.7.0"
  }
 },
 "nbformat": 4,
 "nbformat_minor": 2
}
